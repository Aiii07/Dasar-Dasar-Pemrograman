{
  "nbformat": 4,
  "nbformat_minor": 0,
  "metadata": {
    "colab": {
      "provenance": [],
      "authorship_tag": "ABX9TyPnu7Lk9VPfcXIn264swpUl",
      "include_colab_link": true
    },
    "kernelspec": {
      "name": "python3",
      "display_name": "Python 3"
    },
    "language_info": {
      "name": "python"
    }
  },
  "cells": [
    {
      "cell_type": "markdown",
      "metadata": {
        "id": "view-in-github",
        "colab_type": "text"
      },
      "source": [
        "<a href=\"https://colab.research.google.com/github/Aiii07/Dasar-Dasar-Pemrograman/blob/main/Untitled2.ipynb\" target=\"_parent\"><img src=\"https://colab.research.google.com/assets/colab-badge.svg\" alt=\"Open In Colab\"/></a>"
      ]
    },
    {
      "cell_type": "code",
      "execution_count": 21,
      "metadata": {
        "colab": {
          "base_uri": "https://localhost:8080/"
        },
        "id": "whh8zRFP4poi",
        "outputId": "da5550d2-19d2-4e20-c758-edb27645b077"
      },
      "outputs": [
        {
          "output_type": "stream",
          "name": "stdout",
          "text": [
            "kode kendaraan : B78F\n",
            "nama kendaraan : vario\n",
            "merk kendaraan : honda\n",
            "jenis kendaraan : motor matic\n",
            "cc kendaraan : 200\n",
            "warna kendaraan : hitam\n",
            "harga kendaraan : 30 juta\n",
            "jumlah ban : 2\n"
          ]
        }
      ],
      "source": [
        "kendaraan = ['B78F','vario','200','hitam']\n",
        "kendaraan.append ('30 juta')\n",
        "kendaraan.append ('2')\n",
        "kendaraan.insert (2,'honda')\n",
        "kendaraan.insert (3,'motor matic')\n",
        "\n",
        "kodekendaraan = (kendaraan [0])\n",
        "print ('kode kendaraan :',kodekendaraan)\n",
        "kodekendaraan = (kendaraan [1])\n",
        "print ('nama kendaraan :',kodekendaraan)\n",
        "kodekendaraan = (kendaraan [2])\n",
        "print ('merk kendaraan :',kodekendaraan)\n",
        "kodekendaraan = (kendaraan [3])\n",
        "print ('jenis kendaraan :',kodekendaraan)\n",
        "kodekendaraan = (kendaraan [4])\n",
        "print ('cc kendaraan :',kodekendaraan)\n",
        "kodekendaraan = (kendaraan [5])\n",
        "print ('warna kendaraan :',kodekendaraan)\n",
        "kodekendaraan = (kendaraan [6])\n",
        "print ('harga kendaraan :',kodekendaraan)\n",
        "kodekendaraan = (kendaraan [7])\n",
        "print ('jumlah ban :',kodekendaraan)"
      ]
    },
    {
      "cell_type": "code",
      "source": [],
      "metadata": {
        "id": "GBoJmn_-Rn_U"
      },
      "execution_count": null,
      "outputs": []
    }
  ]
}