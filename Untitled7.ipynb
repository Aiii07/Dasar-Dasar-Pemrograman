{
  "nbformat": 4,
  "nbformat_minor": 0,
  "metadata": {
    "colab": {
      "provenance": [],
      "authorship_tag": "ABX9TyNgrffSgat73ZTWnv8ZOE43",
      "include_colab_link": true
    },
    "kernelspec": {
      "name": "python3",
      "display_name": "Python 3"
    },
    "language_info": {
      "name": "python"
    }
  },
  "cells": [
    {
      "cell_type": "markdown",
      "metadata": {
        "id": "view-in-github",
        "colab_type": "text"
      },
      "source": [
        "<a href=\"https://colab.research.google.com/github/Aiii07/Dasar-Dasar-Pemrograman/blob/main/Untitled7.ipynb\" target=\"_parent\"><img src=\"https://colab.research.google.com/assets/colab-badge.svg\" alt=\"Open In Colab\"/></a>"
      ]
    },
    {
      "cell_type": "code",
      "execution_count": 5,
      "metadata": {
        "colab": {
          "base_uri": "https://localhost:8080/"
        },
        "id": "lSQUutoQG2Ut",
        "outputId": "5b907746-03a2-4b9f-c891-4a0f15929057"
      },
      "outputs": [
        {
          "output_type": "stream",
          "name": "stdout",
          "text": [
            "silahkan pilih rumus dibawah ini\n",
            "silahkan pilih\n",
            "se'1'\n",
            "1.untuk meghitung luas persegi\n",
            "2.untuk menghitung luas lingkaran\n",
            "3.untuk menghitung luas segitiga\n",
            "_\n",
            "anda salah memilih pilihan\n"
          ]
        }
      ],
      "source": [
        "ket='''silahkan pilih rumus dibawah ini\n",
        "silahkan pilih\n",
        "se'1'\n",
        "1.untuk meghitung luas persegi\n",
        "2.untuk menghitung luas lingkaran\n",
        "3.untuk menghitung luas segitiga\n",
        "'''\n",
        "\n",
        "pilihan = input(ket)\n",
        "match pilihan:\n",
        "   case'1':\n",
        "      print ('memilih rumus 1 untuk menghitung luas persegi')\n",
        "      sisi = int(input('masukan sisi'))\n",
        "      luas = sisi * sisi\n",
        "      print ('luas persegi yang sisinya',sisi,'adalah',luas)\n",
        "\n",
        "   case'2':\n",
        "      print ('memilih rumus 2 untuk menghitung luas lingkaran')\n",
        "      jari2 = float(input('masukan jari2'))\n",
        "      luas = 3.14 * jari2 * jari2\n",
        "      print ('luas lingkaran yang jari2nya',jari2,'jari2',jari2,'adalah',luas)\n",
        "\n",
        "   case'3':\n",
        "      print ('memilih rumus 3 untuk menghitung luas segitiga')\n",
        "      alas = int(input('masukan alas'))\n",
        "      tinggi = int(input('masukan tinggi'))\n",
        "      luas = 0.5 * alas * tinggi\n",
        "      print ('luas segitiga yang alasnya',alas,'tinggi',tinggi,'adalah',luas)\n",
        "\n",
        "   case _:\n",
        "      print ('anda salah memilih pilihan')"
      ]
    }
  ]
}